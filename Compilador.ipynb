{
 "cells": [
  {
   "cell_type": "code",
   "execution_count": 1,
   "id": "8699f745-1631-48ed-be62-1e5d660e6054",
   "metadata": {
    "tags": []
   },
   "outputs": [
    {
     "data": {
      "text/plain": [
       "'\\nCompilador de Texto a Binario\\n\\nEste programa permite a los usuarios convertir texto en lenguaje natural en representaciones binarias\\nutilizando un diccionario que mapea letras del alfabeto a sus representaciones binarias.\\n\\nEl programa realiza las siguientes tareas:\\n1. El usuario ingresa texto en lenguaje natural.\\n2. El programa verifica que el texto solo contenga letras y espacios en blanco. Cualquier número o carácter especial\\n   en el texto provocará un mensaje de error.\\n3. El programa normaliza el texto, convirtiendo caracteres con acentos o diacríticos en caracteres sin acentos.\\n4. Convierte el texto a minúsculas para garantizar que las letras sean reconocidas en el diccionario de mapeo.\\n5. Utiliza un diccionario predefinido para mapear las letras a sus representaciones binarias.\\n6. Compila el código binario a partir del texto en lenguaje natural.\\n7. Muestra el código binario resultante en un formato legible en binario.\\n\\nEste programa es útil para la conversión de texto en lenguaje natural a una representación binaria que puede ser\\ninterpretada por sistemas informáticos o para fines educativos.\\n\\nRequisitos:\\n- Python 3.x\\n- Bibliotecas estándar de Python: re, binascii, struct, unicodedata\\n\\nUso:\\n1. Ejecute el programa en un entorno que admita Python 3.x, como Jupyter Notebook.\\n2. Siga las instrucciones para ingresar el texto en lenguaje natural.\\n3. El programa generará y mostrará el código binario resultante.\\n\\nEjemplo:\\nSi se ingresa \"Hola Mundo\", el programa generará y mostrará el código binario correspondiente a las letras \"hola mundo\".\\n\\nNota: Este programa asume que se está trabajando con texto en idioma español y no maneja caracteres especiales,\\nnúmeros u otros idiomas.\\n\\nAutor: Wilmer Alexander Córdoba Arroyo y Yoni Mosquera Mosquera\\n'"
      ]
     },
     "execution_count": 1,
     "metadata": {},
     "output_type": "execute_result"
    }
   ],
   "source": [
    "\"\"\"\n",
    "Compilador de Texto a Binario\n",
    "\n",
    "Este programa permite a los usuarios convertir texto en lenguaje natural en representaciones binarias\n",
    "utilizando un diccionario que mapea letras del alfabeto a sus representaciones binarias.\n",
    "\n",
    "El programa realiza las siguientes tareas:\n",
    "1. El usuario ingresa texto en lenguaje natural.\n",
    "2. El programa verifica que el texto solo contenga letras y espacios en blanco. Cualquier número o carácter especial\n",
    "   en el texto provocará un mensaje de error.\n",
    "3. El programa normaliza el texto, convirtiendo caracteres con acentos o diacríticos en caracteres sin acentos.\n",
    "4. Convierte el texto a minúsculas para garantizar que las letras sean reconocidas en el diccionario de mapeo.\n",
    "5. Utiliza un diccionario predefinido para mapear las letras a sus representaciones binarias.\n",
    "6. Compila el código binario a partir del texto en lenguaje natural.\n",
    "7. Muestra el código binario resultante en un formato legible en binario.\n",
    "\n",
    "Este programa es útil para la conversión de texto en lenguaje natural a una representación binaria que puede ser\n",
    "interpretada por sistemas informáticos o para fines educativos.\n",
    "\n",
    "Requisitos:\n",
    "- Python 3.x\n",
    "- Bibliotecas estándar de Python: re, binascii, struct, unicodedata\n",
    "\n",
    "Uso:\n",
    "1. Ejecute el programa en un entorno que admita Python 3.x, como Jupyter Notebook.\n",
    "2. Siga las instrucciones para ingresar el texto en lenguaje natural.\n",
    "3. El programa generará y mostrará el código binario resultante.\n",
    "\n",
    "Ejemplo:\n",
    "Si se ingresa \"Hola Mundo\", el programa generará y mostrará el código binario correspondiente a las letras \"hola mundo\".\n",
    "\n",
    "Nota: Este programa asume que se está trabajando con texto en idioma español y no maneja caracteres especiales,\n",
    "números u otros idiomas.\n",
    "\n",
    "Autor: Wilmer Alexander Córdoba Arroyo y Yoni Mosquera Mosquera\n",
    "\"\"\""
   ]
  },
  {
   "cell_type": "code",
   "execution_count": null,
   "id": "c837754e-d4d5-4804-8362-a2432c2e2b67",
   "metadata": {
    "tags": []
   },
   "outputs": [],
   "source": [
    "import re\n",
    "import binascii\n",
    "import struct\n",
    "import unicodedata\n",
    "\n",
    "# Diccionario para mapear letras del alfabeto a sus representaciones binarias\n",
    "alphabet_mapping = {}\n",
    "for letter in 'abcdefghijklmnopqrstuvwxyz':\n",
    "    binary_representation = binascii.unhexlify(hex(ord(letter))[2:])\n",
    "    alphabet_mapping[letter] = binary_representation\n",
    "\n",
    "def binary_string(data):\n",
    "    return ''.join(format(byte, '08b') for byte in data)\n",
    "\n",
    "def compile_code(natural_code, mapping):\n",
    "    # Validar si el texto contiene solo letras\n",
    "    if not re.match(\"^[a-zA-Z\\s]*$\", natural_code):\n",
    "        print(\"Error: El texto no debe contener números ni caracteres especiales.\")\n",
    "        return b''  # Devolver binario vacío\n",
    "\n",
    "    binary_code = b''\n",
    "    for char in natural_code:\n",
    "        char_normalized = unicodedata.normalize('NFD', char).encode('ascii', 'ignore').decode('ascii')\n",
    "        char_lower = char_normalized.lower()\n",
    "        if char_lower in mapping:\n",
    "            binary_code += mapping[char_lower]\n",
    "    return binary_code\n",
    "\n",
    "# Ingreso el texto en lenguaje natural\n",
    "natural_code = input(\"Ingrese el texto en lenguaje natural: \")\n",
    "\n",
    "# Compilar y obtener el código binario utilizando el nuevo mapeo\n",
    "binary_code = compile_code(natural_code, alphabet_mapping)\n",
    "\n",
    "# Mostrar el código binario resultante en formato legible en binario\n",
    "print(\"Código en lenguaje maquina (Binario):\", binary_string(binary_code))\n"
   ]
  },
  {
   "cell_type": "code",
   "execution_count": null,
   "id": "06539bec-8e2a-4d18-a7ea-11eb852489b3",
   "metadata": {},
   "outputs": [],
   "source": []
  }
 ],
 "metadata": {
  "kernelspec": {
   "display_name": "Python 3 (ipykernel)",
   "language": "python",
   "name": "python3"
  },
  "language_info": {
   "codemirror_mode": {
    "name": "ipython",
    "version": 3
   },
   "file_extension": ".py",
   "mimetype": "text/x-python",
   "name": "python",
   "nbconvert_exporter": "python",
   "pygments_lexer": "ipython3",
   "version": "3.11.3"
  }
 },
 "nbformat": 4,
 "nbformat_minor": 5
}
